{
 "cells": [
  {
   "cell_type": "code",
   "execution_count": 134,
   "id": "d2f8b405-49ca-488d-99d7-bd02015a7e28",
   "metadata": {},
   "outputs": [],
   "source": [
    "import mediapipe as mp\n",
    "from mediapipe.python.solutions.pose import PoseLandmark\n",
    "from pprint import pprint\n",
    "from PIL import Image\n",
    "import pandas as pd\n",
    "from mediapipe.tasks import python as mpy\n",
    "from mediapipe.tasks.python import vision\n",
    "from pathlib import Path\n",
    "import numpy as np\n",
    "import cv2\n",
    "from mediapipe import solutions\n",
    "from mediapipe.framework.formats import landmark_pb2\n",
    "import matplotlib.pyplot as plt"
   ]
  },
  {
   "cell_type": "code",
   "execution_count": 135,
   "id": "0d920058-7ea9-4724-8afc-01194d87e3ab",
   "metadata": {},
   "outputs": [],
   "source": [
    "# print(PoseLandmark.__dict__)\n",
    "members = PoseLandmark._member_names_"
   ]
  },
  {
   "cell_type": "code",
   "execution_count": 136,
   "id": "4a98a2ba-1e6f-42ae-9fd0-813eddd85cd3",
   "metadata": {},
   "outputs": [
    {
     "name": "stderr",
     "output_type": "stream",
     "text": [
      "I0000 00:00:1750056573.270332  329114 gl_context.cc:369] GL version: 2.1 (2.1 Metal - 89.4), renderer: Apple M3\n",
      "W0000 00:00:1750056573.319011  350963 inference_feedback_manager.cc:114] Feedback manager requires a model with a single signature inference. Disabling support for feedback tensors.\n",
      "W0000 00:00:1750056573.328343  350963 inference_feedback_manager.cc:114] Feedback manager requires a model with a single signature inference. Disabling support for feedback tensors.\n"
     ]
    }
   ],
   "source": [
    "# download one from here:\n",
    "# https://ai.google.dev/edge/mediapipe/solutions/vision/pose_landmarker/index#models\n",
    "model_path = \"/Users/sidsurakanti/projects/what-punch/pose_landmarker_full.task\"\n",
    "# model_path = \"/\"\n",
    "\n",
    "BaseOptions = mp.tasks.BaseOptions\n",
    "PoseLandmarker = vision.PoseLandmarker\n",
    "PoseLandmarkerOptions = vision.PoseLandmarkerOptions\n",
    "running_mode = vision.RunningMode.IMAGE \n",
    "load_mp_img = mp.Image.create_from_file \n",
    "\n",
    "options = PoseLandmarkerOptions(\n",
    "    base_options=BaseOptions(model_asset_path=model_path),\n",
    "    running_mode=running_mode\n",
    ")\n",
    "detector = PoseLandmarker.create_from_options(options)"
   ]
  },
  {
   "cell_type": "code",
   "execution_count": 137,
   "id": "b6673468-7b8e-4512-8dc0-e1baee1822f3",
   "metadata": {},
   "outputs": [],
   "source": [
    "def draw_landmarks_on_image(rgb_image, detection_result):\n",
    "  pose_landmarks_list = detection_result.pose_landmarks\n",
    "  annotated_image = np.copy(rgb_image)\n",
    "\n",
    "  for idx in range(len(pose_landmarks_list)):\n",
    "    pose_landmarks = pose_landmarks_list[idx]\n",
    "\n",
    "    # Draw the pose landmarks.\n",
    "    pose_landmarks_proto = landmark_pb2.NormalizedLandmarkList()\n",
    "    pose_landmarks_proto.landmark.extend([\n",
    "      landmark_pb2.NormalizedLandmark(x=landmark.x, y=landmark.y, z=landmark.z) for landmark in pose_landmarks\n",
    "    ])\n",
    "    solutions.drawing_utils.draw_landmarks(\n",
    "      annotated_image,\n",
    "      pose_landmarks_proto,\n",
    "      solutions.pose.POSE_CONNECTIONS,\n",
    "      solutions.drawing_styles.get_default_pose_landmarks_style())\n",
    "\n",
    "  return annotated_image"
   ]
  },
  {
   "cell_type": "code",
   "execution_count": 145,
   "id": "8164cc6d-3697-41f7-893b-d3cf57f53daa",
   "metadata": {},
   "outputs": [],
   "source": [
    "results = []\n",
    "folder = Path.cwd() / \"assets\" / \"test\"\n",
    "# folder = Path(\"assets/test\")\n",
    "\n",
    "# [3:7]\n",
    "for file in sorted(list(folder.glob(\"*.png\"))):\n",
    "    # img = Image.open(str(file))\n",
    "    img = load_mp_img(str(file))\n",
    "    # pprint(type(img).numpy_view.__doc__)\n",
    "    # pprint(type(img).__doc__)\n",
    "    \n",
    "    landmarks = detector.detect(img)\n",
    "    marks = landmarks.pose_world_landmarks[0] \n",
    "    results.append(marks)\n",
    "\n",
    "    # pprint(type(marks[1]).__dict__)\n",
    "    \n",
    "    # print(img.numpy_view().shape)\n",
    "\n",
    "    alpha_stripped = img.numpy_view()[..., :3]\n",
    "    bgr_img = cv2.cvtColor(alpha_stripped, cv2.COLOR_RGB2BGR)\n",
    "    annotated_image = draw_landmarks_on_image(bgr_img, landmarks)\n",
    "\n",
    "    cv2.imshow(\"preview\", annotated_image)\n",
    "    key = cv2.waitKey(0)  # waits for key press\n",
    "    if key == ord('q'): break\n",
    "    cv2.destroyAllWindows()  # closes the window"
   ]
  },
  {
   "cell_type": "code",
   "execution_count": 146,
   "id": "5f13fa6a-1780-43ff-bde2-285d8d69178a",
   "metadata": {},
   "outputs": [],
   "source": [
    "data = []\n",
    "for res in results:\n",
    "    data.append([[lm.x, lm.y, lm.z, lm.visibility] for idx, (name, lm) in enumerate(zip(PoseLandmark._member_names_, res))])\n",
    "\n",
    "data = np.array(data)\n",
    "idxs = pd.MultiIndex.from_product([np.arange(data.shape[0]), np.arange(len(members))], names=[\"example\", \"landmark\"])\n",
    "df = pd.DataFrame(data.reshape(-1, 4), index=idxs, columns=[\"x\", \"y\", \"z\", \"visibility\"])"
   ]
  },
  {
   "cell_type": "code",
   "execution_count": 147,
   "id": "cca3220a-1933-4b62-aee4-24a338321d95",
   "metadata": {},
   "outputs": [
    {
     "data": {
      "text/html": [
       "<div>\n",
       "<style scoped>\n",
       "    .dataframe tbody tr th:only-of-type {\n",
       "        vertical-align: middle;\n",
       "    }\n",
       "\n",
       "    .dataframe tbody tr th {\n",
       "        vertical-align: top;\n",
       "    }\n",
       "\n",
       "    .dataframe thead th {\n",
       "        text-align: right;\n",
       "    }\n",
       "</style>\n",
       "<table border=\"1\" class=\"dataframe\">\n",
       "  <thead>\n",
       "    <tr style=\"text-align: right;\">\n",
       "      <th></th>\n",
       "      <th></th>\n",
       "      <th>x</th>\n",
       "      <th>y</th>\n",
       "      <th>z</th>\n",
       "      <th>visibility</th>\n",
       "    </tr>\n",
       "    <tr>\n",
       "      <th>example</th>\n",
       "      <th>landmark</th>\n",
       "      <th></th>\n",
       "      <th></th>\n",
       "      <th></th>\n",
       "      <th></th>\n",
       "    </tr>\n",
       "  </thead>\n",
       "  <tbody>\n",
       "    <tr>\n",
       "      <th rowspan=\"5\" valign=\"top\">0</th>\n",
       "      <th>0</th>\n",
       "      <td>0.105812</td>\n",
       "      <td>-0.604585</td>\n",
       "      <td>-0.103344</td>\n",
       "      <td>0.999987</td>\n",
       "    </tr>\n",
       "    <tr>\n",
       "      <th>1</th>\n",
       "      <td>0.112420</td>\n",
       "      <td>-0.642191</td>\n",
       "      <td>-0.089312</td>\n",
       "      <td>0.999982</td>\n",
       "    </tr>\n",
       "    <tr>\n",
       "      <th>2</th>\n",
       "      <td>0.112934</td>\n",
       "      <td>-0.642498</td>\n",
       "      <td>-0.088762</td>\n",
       "      <td>0.999977</td>\n",
       "    </tr>\n",
       "    <tr>\n",
       "      <th>3</th>\n",
       "      <td>0.112563</td>\n",
       "      <td>-0.643110</td>\n",
       "      <td>-0.088865</td>\n",
       "      <td>0.999981</td>\n",
       "    </tr>\n",
       "    <tr>\n",
       "      <th>4</th>\n",
       "      <td>0.081429</td>\n",
       "      <td>-0.642052</td>\n",
       "      <td>-0.094331</td>\n",
       "      <td>0.999977</td>\n",
       "    </tr>\n",
       "    <tr>\n",
       "      <th>...</th>\n",
       "      <th>...</th>\n",
       "      <td>...</td>\n",
       "      <td>...</td>\n",
       "      <td>...</td>\n",
       "      <td>...</td>\n",
       "    </tr>\n",
       "    <tr>\n",
       "      <th rowspan=\"5\" valign=\"top\">7</th>\n",
       "      <th>28</th>\n",
       "      <td>-0.147712</td>\n",
       "      <td>0.689455</td>\n",
       "      <td>0.154659</td>\n",
       "      <td>0.650748</td>\n",
       "    </tr>\n",
       "    <tr>\n",
       "      <th>29</th>\n",
       "      <td>0.160749</td>\n",
       "      <td>0.741853</td>\n",
       "      <td>0.134883</td>\n",
       "      <td>0.377621</td>\n",
       "    </tr>\n",
       "    <tr>\n",
       "      <th>30</th>\n",
       "      <td>-0.152861</td>\n",
       "      <td>0.730250</td>\n",
       "      <td>0.165299</td>\n",
       "      <td>0.394567</td>\n",
       "    </tr>\n",
       "    <tr>\n",
       "      <th>31</th>\n",
       "      <td>0.191442</td>\n",
       "      <td>0.817631</td>\n",
       "      <td>0.044039</td>\n",
       "      <td>0.453038</td>\n",
       "    </tr>\n",
       "    <tr>\n",
       "      <th>32</th>\n",
       "      <td>-0.195052</td>\n",
       "      <td>0.784631</td>\n",
       "      <td>0.053016</td>\n",
       "      <td>0.504513</td>\n",
       "    </tr>\n",
       "  </tbody>\n",
       "</table>\n",
       "<p>264 rows × 4 columns</p>\n",
       "</div>"
      ],
      "text/plain": [
       "                         x         y         z  visibility\n",
       "example landmark                                          \n",
       "0       0         0.105812 -0.604585 -0.103344    0.999987\n",
       "        1         0.112420 -0.642191 -0.089312    0.999982\n",
       "        2         0.112934 -0.642498 -0.088762    0.999977\n",
       "        3         0.112563 -0.643110 -0.088865    0.999981\n",
       "        4         0.081429 -0.642052 -0.094331    0.999977\n",
       "...                    ...       ...       ...         ...\n",
       "7       28       -0.147712  0.689455  0.154659    0.650748\n",
       "        29        0.160749  0.741853  0.134883    0.377621\n",
       "        30       -0.152861  0.730250  0.165299    0.394567\n",
       "        31        0.191442  0.817631  0.044039    0.453038\n",
       "        32       -0.195052  0.784631  0.053016    0.504513\n",
       "\n",
       "[264 rows x 4 columns]"
      ]
     },
     "execution_count": 147,
     "metadata": {},
     "output_type": "execute_result"
    }
   ],
   "source": [
    "df.loc[(0, 0): (7, 32)]"
   ]
  },
  {
   "cell_type": "code",
   "execution_count": 148,
   "id": "e8eac316-59e5-4b52-b737-11f4110742a1",
   "metadata": {},
   "outputs": [
    {
     "data": {
      "text/html": [
       "<div>\n",
       "<style scoped>\n",
       "    .dataframe tbody tr th:only-of-type {\n",
       "        vertical-align: middle;\n",
       "    }\n",
       "\n",
       "    .dataframe tbody tr th {\n",
       "        vertical-align: top;\n",
       "    }\n",
       "\n",
       "    .dataframe thead th {\n",
       "        text-align: right;\n",
       "    }\n",
       "</style>\n",
       "<table border=\"1\" class=\"dataframe\">\n",
       "  <thead>\n",
       "    <tr style=\"text-align: right;\">\n",
       "      <th></th>\n",
       "      <th>x</th>\n",
       "      <th>y</th>\n",
       "      <th>z</th>\n",
       "      <th>visibility</th>\n",
       "    </tr>\n",
       "  </thead>\n",
       "  <tbody>\n",
       "    <tr>\n",
       "      <th>count</th>\n",
       "      <td>429.000000</td>\n",
       "      <td>429.000000</td>\n",
       "      <td>429.000000</td>\n",
       "      <td>429.000000</td>\n",
       "    </tr>\n",
       "    <tr>\n",
       "      <th>mean</th>\n",
       "      <td>0.027767</td>\n",
       "      <td>-0.236979</td>\n",
       "      <td>-0.085553</td>\n",
       "      <td>0.899220</td>\n",
       "    </tr>\n",
       "    <tr>\n",
       "      <th>std</th>\n",
       "      <td>0.135513</td>\n",
       "      <td>0.533444</td>\n",
       "      <td>0.134802</td>\n",
       "      <td>0.233769</td>\n",
       "    </tr>\n",
       "    <tr>\n",
       "      <th>min</th>\n",
       "      <td>-0.268276</td>\n",
       "      <td>-0.743480</td>\n",
       "      <td>-0.425817</td>\n",
       "      <td>0.000786</td>\n",
       "    </tr>\n",
       "    <tr>\n",
       "      <th>25%</th>\n",
       "      <td>-0.100560</td>\n",
       "      <td>-0.634104</td>\n",
       "      <td>-0.177412</td>\n",
       "      <td>0.950970</td>\n",
       "    </tr>\n",
       "    <tr>\n",
       "      <th>50%</th>\n",
       "      <td>0.066490</td>\n",
       "      <td>-0.523781</td>\n",
       "      <td>-0.094555</td>\n",
       "      <td>0.991095</td>\n",
       "    </tr>\n",
       "    <tr>\n",
       "      <th>75%</th>\n",
       "      <td>0.143804</td>\n",
       "      <td>0.010556</td>\n",
       "      <td>0.001391</td>\n",
       "      <td>0.999736</td>\n",
       "    </tr>\n",
       "    <tr>\n",
       "      <th>max</th>\n",
       "      <td>0.296398</td>\n",
       "      <td>0.898563</td>\n",
       "      <td>0.247267</td>\n",
       "      <td>0.999994</td>\n",
       "    </tr>\n",
       "  </tbody>\n",
       "</table>\n",
       "</div>"
      ],
      "text/plain": [
       "                x           y           z  visibility\n",
       "count  429.000000  429.000000  429.000000  429.000000\n",
       "mean     0.027767   -0.236979   -0.085553    0.899220\n",
       "std      0.135513    0.533444    0.134802    0.233769\n",
       "min     -0.268276   -0.743480   -0.425817    0.000786\n",
       "25%     -0.100560   -0.634104   -0.177412    0.950970\n",
       "50%      0.066490   -0.523781   -0.094555    0.991095\n",
       "75%      0.143804    0.010556    0.001391    0.999736\n",
       "max      0.296398    0.898563    0.247267    0.999994"
      ]
     },
     "execution_count": 148,
     "metadata": {},
     "output_type": "execute_result"
    }
   ],
   "source": [
    "df.describe()"
   ]
  },
  {
   "cell_type": "code",
   "execution_count": 149,
   "id": "9405716d-8db6-46c7-bcd8-6650bfd23879",
   "metadata": {},
   "outputs": [
    {
     "data": {
      "text/plain": [
       "<matplotlib.collections.PathCollection at 0x1735daf40>"
      ]
     },
     "execution_count": 149,
     "metadata": {},
     "output_type": "execute_result"
    },
    {
     "data": {
      "image/png": "[encoded data removed]",
      "text/plain": [
       "<Figure size 640x480 with 1 Axes>"
      ]
     },
     "metadata": {},
     "output_type": "display_data"
    }
   ],
   "source": [
    "plt.scatter([x for x in df.index.get_level_values(1)], df['x'])"
   ]
  },
  {
   "cell_type": "code",
   "execution_count": 150,
   "id": "039e0b40-6bee-4e3a-b38a-9449c35fbe89",
   "metadata": {},
   "outputs": [
    {
     "data": {
      "text/plain": [
       "429"
      ]
     },
     "execution_count": 150,
     "metadata": {},
     "output_type": "execute_result"
    }
   ],
   "source": [
    "len(df)"
   ]
  },
  {
   "cell_type": "code",
   "execution_count": 151,
   "id": "3950a6bf-0359-4fa9-96cf-2735282f048f",
   "metadata": {},
   "outputs": [
    {
     "data": {
      "text/plain": [
       "['LEFT_WRIST',\n",
       " 'RIGHT_WRIST',\n",
       " 'LEFT_PINKY',\n",
       " 'RIGHT_PINKY',\n",
       " 'LEFT_INDEX',\n",
       " 'RIGHT_INDEX',\n",
       " 'LEFT_THUMB',\n",
       " 'RIGHT_THUMB',\n",
       " 'LEFT_HIP']"
      ]
     },
     "execution_count": 151,
     "metadata": {},
     "output_type": "execute_result"
    }
   ],
   "source": [
    "members[15:24]"
   ]
  },
  {
   "cell_type": "code",
   "execution_count": null,
   "id": "69919f2a-7d5e-4a30-b3ef-2d5aa659eab3",
   "metadata": {},
   "outputs": [],
   "source": []
  }
 ],
 "metadata": {
  "kernelspec": {
   "display_name": "Python 3 (ipykernel)",
   "language": "python",
   "name": "python3"
  },
  "language_info": {
   "codemirror_mode": {
    "name": "ipython",
    "version": 3
   },
   "file_extension": ".py",
   "mimetype": "text/x-python",
   "name": "python",
   "nbconvert_exporter": "python",
   "pygments_lexer": "ipython3",
   "version": "3.9.6"
  }
 },
 "nbformat": 4,
 "nbformat_minor": 5
}
